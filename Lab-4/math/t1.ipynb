{
 "cells": [
  {
   "cell_type": "code",
   "execution_count": 5,
   "metadata": {},
   "outputs": [
    {
     "name": "stdout",
     "output_type": "stream",
     "text": [
      "3.14\n",
      "Output radian:  0.261799\n"
     ]
    }
   ],
   "source": [
    "#degree to radian\n",
    "import math\n",
    "\n",
    "n=int(input(\"Input degree: \"))\n",
    "p=math.pi\n",
    "print(round(p,2))\n",
    "r=n*(p/180)\n",
    "print(\"Output radian: \",round(r,6))\n"
   ]
  }
 ],
 "metadata": {
  "kernelspec": {
   "display_name": "Python 3",
   "language": "python",
   "name": "python3"
  },
  "language_info": {
   "codemirror_mode": {
    "name": "ipython",
    "version": 3
   },
   "file_extension": ".py",
   "mimetype": "text/x-python",
   "name": "python",
   "nbconvert_exporter": "python",
   "pygments_lexer": "ipython3",
   "version": "3.12.3"
  }
 },
 "nbformat": 4,
 "nbformat_minor": 2
}
