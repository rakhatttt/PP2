{
 "cells": [
  {
   "cell_type": "code",
   "execution_count": 24,
   "metadata": {},
   "outputs": [
    {
     "name": "stdout",
     "output_type": "stream",
     "text": [
      "The area of the polygon is:  625\n"
     ]
    }
   ],
   "source": [
    "import math\n",
    "n=int(input(\"numbers of sides: \"))\n",
    "s=float(input(\"Length of side\"))\n",
    "S = (1/4) * n * s**2 * (1 / math.tan(math.pi / n))\n",
    "\n",
    "print(\"The area of the polygon is: \", math.floor(S))\n"
   ]
  }
 ],
 "metadata": {
  "kernelspec": {
   "display_name": "Python 3",
   "language": "python",
   "name": "python3"
  },
  "language_info": {
   "codemirror_mode": {
    "name": "ipython",
    "version": 3
   },
   "file_extension": ".py",
   "mimetype": "text/x-python",
   "name": "python",
   "nbconvert_exporter": "python",
   "pygments_lexer": "ipython3",
   "version": "3.12.3"
  }
 },
 "nbformat": 4,
 "nbformat_minor": 2
}
