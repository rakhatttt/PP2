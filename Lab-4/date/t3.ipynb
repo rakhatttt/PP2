{
 "cells": [
  {
   "cell_type": "code",
   "execution_count": 2,
   "metadata": {},
   "outputs": [
    {
     "name": "stdout",
     "output_type": "stream",
     "text": [
      "2025-02-15 07:58:15.662992\n",
      "2025-02-15 07:58:15\n"
     ]
    }
   ],
   "source": [
    "from datetime import datetime\n",
    "\n",
    "c=datetime.now()\n",
    "\n",
    "micr=c.replace(microsecond=0)\n",
    "\n",
    "print(c)\n",
    "print(micr)"
   ]
  }
 ],
 "metadata": {
  "kernelspec": {
   "display_name": "Python 3",
   "language": "python",
   "name": "python3"
  },
  "language_info": {
   "codemirror_mode": {
    "name": "ipython",
    "version": 3
   },
   "file_extension": ".py",
   "mimetype": "text/x-python",
   "name": "python",
   "nbconvert_exporter": "python",
   "pygments_lexer": "ipython3",
   "version": "3.12.3"
  }
 },
 "nbformat": 4,
 "nbformat_minor": 2
}
