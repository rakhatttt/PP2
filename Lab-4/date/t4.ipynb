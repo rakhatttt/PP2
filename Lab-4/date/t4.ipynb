{
 "cells": [
  {
   "cell_type": "code",
   "execution_count": 2,
   "metadata": {},
   "outputs": [
    {
     "name": "stdout",
     "output_type": "stream",
     "text": [
      "Date 1: 2023-10-15 12:00:00\n",
      "Date 2: 2023-10-10 10:30:00\n",
      "Difference in seconds: 437400.0\n"
     ]
    }
   ],
   "source": [
    "from datetime import datetime\n",
    "\n",
    "d1 = datetime(2023, 10, 15, 12, 0, 0) \n",
    "d2 = datetime(2023, 10, 10, 10, 30, 0)  \n",
    "\n",
    "dif = d1 - d2\n",
    "\n",
    "dif_s = dif.total_seconds()\n",
    "\n",
    "print(\"Date 1:\", d1)\n",
    "print(\"Date 2:\", d2)\n",
    "print(\"Difference in seconds:\", dif_s)"
   ]
  }
 ],
 "metadata": {
  "kernelspec": {
   "display_name": "Python 3",
   "language": "python",
   "name": "python3"
  },
  "language_info": {
   "codemirror_mode": {
    "name": "ipython",
    "version": 3
   },
   "file_extension": ".py",
   "mimetype": "text/x-python",
   "name": "python",
   "nbconvert_exporter": "python",
   "pygments_lexer": "ipython3",
   "version": "3.12.3"
  }
 },
 "nbformat": 4,
 "nbformat_minor": 2
}
