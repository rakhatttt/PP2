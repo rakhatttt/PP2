{
 "cells": [
  {
   "cell_type": "code",
   "execution_count": 7,
   "metadata": {},
   "outputs": [
    {
     "name": "stdout",
     "output_type": "stream",
     "text": [
      "Yesterday:  2025-02-14\n",
      "Today:  2025-02-15\n",
      "Tomorrow:  2025-02-16\n"
     ]
    }
   ],
   "source": [
    "from datetime import datetime,timedelta\n",
    "\n",
    "c=datetime.now()\n",
    "t=c+\\\n",
    "    timedelta(days=1)\n",
    "y=c-\\\n",
    "    timedelta(days=1)\n",
    "\n",
    "print(\"Yesterday: \", y.strftime(\"%Y-%m-%d\"))\n",
    "print(\"Today: \", c.strftime(\"%Y-%m-%d\"))\n",
    "print(\"Tomorrow: \", t.strftime(\"%Y-%m-%d\"))"
   ]
  }
 ],
 "metadata": {
  "kernelspec": {
   "display_name": "Python 3",
   "language": "python",
   "name": "python3"
  },
  "language_info": {
   "codemirror_mode": {
    "name": "ipython",
    "version": 3
   },
   "file_extension": ".py",
   "mimetype": "text/x-python",
   "name": "python",
   "nbconvert_exporter": "python",
   "pygments_lexer": "ipython3",
   "version": "3.12.3"
  }
 },
 "nbformat": 4,
 "nbformat_minor": 2
}
