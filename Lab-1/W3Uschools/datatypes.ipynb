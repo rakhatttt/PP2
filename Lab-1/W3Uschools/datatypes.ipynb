{
 "cells": [
  {
   "cell_type": "code",
   "execution_count": 1,
   "metadata": {},
   "outputs": [
    {
     "name": "stdout",
     "output_type": "stream",
     "text": [
      "1j\n",
      "['apple', 'banana', 'cherry']\n",
      "('apple', 'banana', 'cherry')\n",
      "range(0, 6)\n",
      "{'name': 'John', 'age': 36}\n",
      "{'apple', 'cherry', 'banana'}\n",
      "frozenset({'apple', 'cherry', 'banana'})\n",
      "b'\\x00\\x00\\x00\\x00\\x00'\n",
      "True\n",
      "bytearray(b'\\x00\\x00\\x00\\x00\\x00')\n",
      "<memory at 0x10b31d840>\n",
      "awesome\n",
      "5\n",
      "5\n",
      "1.25\n"
     ]
    }
   ],
   "source": [
    "x=str(\"awesome\")\n",
    "y=int(5)\n",
    "z=float(1.25)\n",
    "a=complex(1j)\n",
    "b=list((\"apple\", \"banana\", \"cherry\"))\n",
    "c=tuple((\"apple\", \"banana\", \"cherry\"))\n",
    "d=range(6)\n",
    "e=dict(name=\"John\", age=36)\n",
    "f=set((\"apple\", \"banana\", \"cherry\"))\n",
    "g=frozenset((\"apple\", \"banana\", \"cherry\"))\n",
    "h=bytes(5)\n",
    "i=bool(5)\n",
    "j=bytearray(5)\n",
    "k=memoryview(bytes(5))\n",
    "print(a)\n",
    "\n",
    "print(b)\n",
    "print(c)\n",
    "print(d)\n",
    "print(e)\n",
    "print(f)\n",
    "print(g)\n",
    "print(h)\n",
    "print(i)\n",
    "print(j)\n",
    "print(k)\n",
    "print(x)\n",
    "print(y)\n",
    "print(y)\n",
    "print(z)\n"
   ]
  }
 ],
 "metadata": {
  "kernelspec": {
   "display_name": "Python 3",
   "language": "python",
   "name": "python3"
  },
  "language_info": {
   "codemirror_mode": {
    "name": "ipython",
    "version": 3
   },
   "file_extension": ".py",
   "mimetype": "text/x-python",
   "name": "python",
   "nbconvert_exporter": "python",
   "pygments_lexer": "ipython3",
   "version": "3.12.3"
  }
 },
 "nbformat": 4,
 "nbformat_minor": 2
}
