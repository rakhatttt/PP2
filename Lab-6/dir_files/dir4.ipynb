{
 "cells": [
  {
   "cell_type": "code",
   "execution_count": 1,
   "metadata": {},
   "outputs": [
    {
     "name": "stdout",
     "output_type": "stream",
     "text": [
      "THe file t1.py doesn't exist\n"
     ]
    }
   ],
   "source": [
    "def count(filename):\n",
    "    try:\n",
    "        with open(filename,'r') as file:\n",
    "\n",
    "            line_c=sum(1 for line in file)\n",
    "            print(f\"The file '{filename}' contains {line_count} lines.\")\n",
    "    except FileNotFoundError:\n",
    "        print(f\"THe file {filename} doesn't exist\")\n",
    "    except Exception as e:\n",
    "        print(f\"An error occurred: {e}\")\n",
    "\n",
    "if __name__==\"__main__\":\n",
    "    specfile=input(\"Enter the filename: \")\n",
    "\n",
    "    count(specfile)"
   ]
  }
 ],
 "metadata": {
  "kernelspec": {
   "display_name": "Python 3",
   "language": "python",
   "name": "python3"
  },
  "language_info": {
   "codemirror_mode": {
    "name": "ipython",
    "version": 3
   },
   "file_extension": ".py",
   "mimetype": "text/x-python",
   "name": "python",
   "nbconvert_exporter": "python",
   "pygments_lexer": "ipython3",
   "version": "3.12.3"
  }
 },
 "nbformat": 4,
 "nbformat_minor": 2
}
