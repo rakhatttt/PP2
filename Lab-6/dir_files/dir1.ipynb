{
 "cells": [
  {
   "cell_type": "code",
   "execution_count": 2,
   "metadata": {},
   "outputs": [
    {
     "name": "stdout",
     "output_type": "stream",
     "text": [
      "The spesified path doesn't exist\n"
     ]
    }
   ],
   "source": [
    "import os \n",
    "\n",
    "def list_dir(path):\n",
    "    print(\"Directories:\")\n",
    "    for x in os.listdir(path):\n",
    "        if os.path.isdir(os.path.join(path,x)):\n",
    "            print(x)\n",
    "\n",
    "def list_files(path):\n",
    "    print(\"Files:\")\n",
    "    for x in os.listdir(path):\n",
    "        if os.path.isfile(os.path.join(path, x)):\n",
    "            print(x)\n",
    "\n",
    "def list_all(path):\n",
    "    print(\"all directories and files:\")\n",
    "    for x in os.listdir(path):\n",
    "        print(x)\n",
    "\n",
    "if __name__== \"__main__\":\n",
    "    specpath = input(\"Enter the path: \")\n",
    "\n",
    "    if os.path.exists(specpath):\n",
    "        list_dir(specpath)\n",
    "        print(\"\\n\")\n",
    "        list_files(specpath)\n",
    "        print('\\n')\n",
    "        list_all(specpath)\n",
    "    else:\n",
    "        print(\"The spesified path doesn't exist\")\n"
   ]
  }
 ],
 "metadata": {
  "kernelspec": {
   "display_name": "Python 3",
   "language": "python",
   "name": "python3"
  },
  "language_info": {
   "codemirror_mode": {
    "name": "ipython",
    "version": 3
   },
   "file_extension": ".py",
   "mimetype": "text/x-python",
   "name": "python",
   "nbconvert_exporter": "python",
   "pygments_lexer": "ipython3",
   "version": "3.12.3"
  }
 },
 "nbformat": 4,
 "nbformat_minor": 2
}
