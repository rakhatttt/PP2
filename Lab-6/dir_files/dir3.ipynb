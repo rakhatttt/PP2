{
 "cells": [
  {
   "cell_type": "code",
   "execution_count": 1,
   "metadata": {},
   "outputs": [
    {
     "name": "stdout",
     "output_type": "stream",
     "text": [
      "The path /Users/admin/Documents/ exists.\n",
      "Directory portion: /Users/admin/Documents\n",
      "Filename: \n"
     ]
    }
   ],
   "source": [
    "import os \n",
    "\n",
    "def check(path):\n",
    "    if os.path.exists(path):\n",
    "        print(f\"The path {path} exists.\")\n",
    "\n",
    "        dir=os.path.dirname(path)\n",
    "        print(f\"Directory portion: {dir}\")\n",
    "\n",
    "        filename = os.path.basename(path)\n",
    "        print(f\"Filename: {filename}\")\n",
    "    else:\n",
    "        print(f\"The path '{path}' doesn't exist\")\n",
    "\n",
    "if __name__==\"__main__\":\n",
    "    specpath=input(\" enter path:\")\n",
    "    check(specpath)"
   ]
  }
 ],
 "metadata": {
  "kernelspec": {
   "display_name": "Python 3",
   "language": "python",
   "name": "python3"
  },
  "language_info": {
   "codemirror_mode": {
    "name": "ipython",
    "version": 3
   },
   "file_extension": ".py",
   "mimetype": "text/x-python",
   "name": "python",
   "nbconvert_exporter": "python",
   "pygments_lexer": "ipython3",
   "version": "3.12.3"
  }
 },
 "nbformat": 4,
 "nbformat_minor": 2
}
