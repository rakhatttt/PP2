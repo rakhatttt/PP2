{
 "cells": [
  {
   "cell_type": "code",
   "execution_count": 1,
   "metadata": {},
   "outputs": [
    {
     "name": "stdout",
     "output_type": "stream",
     "text": [
      "The path  /home/user/Documents doesn't exist.\n"
     ]
    }
   ],
   "source": [
    "import os\n",
    "\n",
    "def check(path):\n",
    "    if os.path.exists(path):\n",
    "        print(\"The path \", path ,\" exists\")\n",
    "\n",
    "        if os.access(path, os.R_OK):\n",
    "            print(\"The path \", path, \" is readable\")\n",
    "        else:\n",
    "            print(\"The path\", path , \"is not readable.\")\n",
    "\n",
    "        if os.access(path, os.W_OK):\n",
    "            print(\"The path \", path, \" is writable\")\n",
    "        else:\n",
    "            print(\"The path\", path , \"is not writable.\")\n",
    "        \n",
    "        if os.access(path, os.X_OK):\n",
    "            print(\"The path\", path, \"is executable.\")\n",
    "        else:\n",
    "            print(\"The path\", path, \"is not executable.\")\n",
    "    else:\n",
    "        print(\"The path \", path, \"doesn't exist.\")\n",
    "\n",
    "if __name__==\"__main__\":\n",
    "    specpath=input(\"enter the path: \")\n",
    "\n",
    "    check(specpath)"
   ]
  }
 ],
 "metadata": {
  "kernelspec": {
   "display_name": "Python 3",
   "language": "python",
   "name": "python3"
  },
  "language_info": {
   "codemirror_mode": {
    "name": "ipython",
    "version": 3
   },
   "file_extension": ".py",
   "mimetype": "text/x-python",
   "name": "python",
   "nbconvert_exporter": "python",
   "pygments_lexer": "ipython3",
   "version": "3.12.3"
  }
 },
 "nbformat": 4,
 "nbformat_minor": 2
}
