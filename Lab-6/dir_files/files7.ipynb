{
 "cells": [
  {
   "cell_type": "code",
   "execution_count": 2,
   "metadata": {},
   "outputs": [
    {
     "name": "stdout",
     "output_type": "stream",
     "text": [
      "Contents ofA.txt have been copied to Z.txt successfully\n"
     ]
    }
   ],
   "source": [
    "def ctrlc(s_file, another_file):\n",
    "    try:\n",
    "\n",
    "        with open(s_file,\"r\") as source:\n",
    "\n",
    "            x=source.read()\n",
    "        \n",
    "        with open(another_file,\"w\") as destination:\n",
    "            destination.write(x)\n",
    "        print(f\"Contents of {s_file} have been copied to {another_file} successfully\")\n",
    "    except FileNotFoundError:\n",
    "        print(f\"The file {s_file} doesn't exist.\")\n",
    "    except Exception as e:\n",
    "        print(f\"Error {e}\")\n",
    "if __name__==\"__main__\":\n",
    "\n",
    "    s_file=input()\n",
    "    another_file=input()\n",
    "\n",
    "    ctrlc(s_file, another_file)"
   ]
  }
 ],
 "metadata": {
  "kernelspec": {
   "display_name": "Python 3",
   "language": "python",
   "name": "python3"
  },
  "language_info": {
   "codemirror_mode": {
    "name": "ipython",
    "version": 3
   },
   "file_extension": ".py",
   "mimetype": "text/x-python",
   "name": "python",
   "nbconvert_exporter": "python",
   "pygments_lexer": "ipython3",
   "version": "3.12.3"
  }
 },
 "nbformat": 4,
 "nbformat_minor": 2
}
