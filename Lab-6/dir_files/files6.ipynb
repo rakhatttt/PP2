{
 "cells": [
  {
   "cell_type": "code",
   "execution_count": 1,
   "metadata": {},
   "outputs": [
    {
     "name": "stdout",
     "output_type": "stream",
     "text": [
      "Created file:  A.txt\n",
      "Created file:  B.txt\n",
      "Created file:  C.txt\n",
      "Created file:  D.txt\n",
      "Created file:  E.txt\n",
      "Created file:  F.txt\n",
      "Created file:  G.txt\n",
      "Created file:  H.txt\n",
      "Created file:  I.txt\n",
      "Created file:  J.txt\n",
      "Created file:  K.txt\n",
      "Created file:  L.txt\n",
      "Created file:  M.txt\n",
      "Created file:  N.txt\n",
      "Created file:  O.txt\n",
      "Created file:  P.txt\n",
      "Created file:  Q.txt\n",
      "Created file:  R.txt\n",
      "Created file:  S.txt\n",
      "Created file:  T.txt\n",
      "Created file:  U.txt\n",
      "Created file:  V.txt\n",
      "Created file:  W.txt\n",
      "Created file:  X.txt\n",
      "Created file:  Y.txt\n",
      "Created file:  Z.txt\n",
      "Generated.\n"
     ]
    }
   ],
   "source": [
    "import os\n",
    "\n",
    "def gen_files():\n",
    "    try:\n",
    "        for x in range(ord(\"A\"), ord(\"Z\")+1):\n",
    "            l=chr(x)\n",
    "\n",
    "            filename=f\"{l}.txt\"\n",
    "\n",
    "            with open(filename,\"w\") as file:\n",
    "                file.write(\"akjdhahfah\")\n",
    "\n",
    "            print(\"Created file: \", filename)\n",
    "\n",
    "        print(\"Generated.\")\n",
    "\n",
    "    except Exception as e:\n",
    "        print(e)\n",
    "    \n",
    "if __name__==\"__main__\":\n",
    "    gen_files()"
   ]
  }
 ],
 "metadata": {
  "kernelspec": {
   "display_name": "Python 3",
   "language": "python",
   "name": "python3"
  },
  "language_info": {
   "codemirror_mode": {
    "name": "ipython",
    "version": 3
   },
   "file_extension": ".py",
   "mimetype": "text/x-python",
   "name": "python",
   "nbconvert_exporter": "python",
   "pygments_lexer": "ipython3",
   "version": "3.12.3"
  }
 },
 "nbformat": 4,
 "nbformat_minor": 2
}
