{
 "cells": [
  {
   "cell_type": "code",
   "execution_count": 1,
   "metadata": {},
   "outputs": [
    {
     "name": "stdout",
     "output_type": "stream",
     "text": [
      "The path 'row.txt' exists.\n",
      "'row.txt' is a file.\n",
      "File 'row.txt' has been deleted successfully.\n"
     ]
    }
   ],
   "source": [
    "import os\n",
    "\n",
    "def delete_file(path):\n",
    "    try:\n",
    "        if os.path.exists(path):\n",
    "            print(f\"The path '{path}' exists.\")\n",
    "            \n",
    "           \n",
    "            if os.path.isfile(path):\n",
    "                print(f\"'{path}' is a file.\")\n",
    "                \n",
    "                if os.access(path, os.W_OK):\n",
    "                    os.remove(path)\n",
    "                    print(f\"File '{path}' has been deleted successfully.\")\n",
    "                else:\n",
    "                    print(f\"No write access to '{path}'. Cannot delete the file.\")\n",
    "            else:\n",
    "                print(f\"'{path}' is not a file. Only files can be deleted.\")\n",
    "        else:\n",
    "            print(f\"The path '{path}' does not exist.\")\n",
    "    except Exception as e:\n",
    "        print(f\"An error occurred: {e}\")\n",
    "\n",
    "if __name__ == \"__main__\":\n",
    "    specified_path = input(\"Enter the file path to delete: \")\n",
    "\n",
    "    delete_file(specified_path)"
   ]
  }
 ],
 "metadata": {
  "kernelspec": {
   "display_name": "Python 3",
   "language": "python",
   "name": "python3"
  },
  "language_info": {
   "codemirror_mode": {
    "name": "ipython",
    "version": 3
   },
   "file_extension": ".py",
   "mimetype": "text/x-python",
   "name": "python",
   "nbconvert_exporter": "python",
   "pygments_lexer": "ipython3",
   "version": "3.12.3"
  }
 },
 "nbformat": 4,
 "nbformat_minor": 2
}
