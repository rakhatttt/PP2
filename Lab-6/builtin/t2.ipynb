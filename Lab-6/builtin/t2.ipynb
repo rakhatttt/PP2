{
 "cells": [
  {
   "cell_type": "code",
   "execution_count": 3,
   "metadata": {},
   "outputs": [
    {
     "name": "stdout",
     "output_type": "stream",
     "text": [
      "Uppercase: 3\n",
      "Lowercase: 6\n",
      "None\n"
     ]
    }
   ],
   "source": [
    "def count(a):\n",
    "    u=0\n",
    "    l=0\n",
    "\n",
    "    for x in a:\n",
    "        if x.isupper():\n",
    "            u+=1\n",
    "        elif x.islower(): \n",
    "            l+=1\n",
    "    print(\"Uppercase:\", u)\n",
    "    print(\"Lowercase:\", l)\n",
    "\n",
    "teststring=input()\n",
    "\n",
    "func=count(teststring)\n",
    "print(teststring, func)\n"
   ]
  }
 ],
 "metadata": {
  "kernelspec": {
   "display_name": "Python 3",
   "language": "python",
   "name": "python3"
  },
  "language_info": {
   "codemirror_mode": {
    "name": "ipython",
    "version": 3
   },
   "file_extension": ".py",
   "mimetype": "text/x-python",
   "name": "python",
   "nbconvert_exporter": "python",
   "pygments_lexer": "ipython3",
   "version": "3.12.3"
  }
 },
 "nbformat": 4,
 "nbformat_minor": 2
}
