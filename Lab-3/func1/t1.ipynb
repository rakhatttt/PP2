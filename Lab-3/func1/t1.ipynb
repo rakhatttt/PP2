{
 "cells": [
  {
   "cell_type": "code",
   "execution_count": 2,
   "metadata": {},
   "outputs": [
    {
     "name": "stdout",
     "output_type": "stream",
     "text": [
      "ounces: 2834.9530999999997\n"
     ]
    }
   ],
   "source": [
    "def gramstoounces(grams):\n",
    "    return grams*28.349531\n",
    "grams=100\n",
    "ounces=gramstoounces(grams)\n",
    "print(\"ounces:\", ounces)"
   ]
  }
 ],
 "metadata": {
  "kernelspec": {
   "display_name": "Python 3",
   "language": "python",
   "name": "python3"
  },
  "language_info": {
   "codemirror_mode": {
    "name": "ipython",
    "version": 3
   },
   "file_extension": ".py",
   "mimetype": "text/x-python",
   "name": "python",
   "nbconvert_exporter": "python",
   "pygments_lexer": "ipython3",
   "version": "3.12.3"
  }
 },
 "nbformat": 4,
 "nbformat_minor": 2
}
