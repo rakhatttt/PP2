{
 "cells": [
  {
   "cell_type": "code",
   "execution_count": 6,
   "metadata": {},
   "outputs": [
    {
     "name": "stdout",
     "output_type": "stream",
     "text": [
      "String in uppercase: BEX\n"
     ]
    }
   ],
   "source": [
    "class StringProcessor:\n",
    "    def strng(x):\n",
    "        x.input_str = \"\"  \n",
    "\n",
    "    def getString(x):\n",
    "        x.input_str = input(\"Enter str: \")\n",
    "\n",
    "    def printString(x):\n",
    "        print(\"String in uppercase:\", x.input_str.upper())\n",
    "\n",
    "processor = StringProcessor()  \n",
    "processor.getString()  \n",
    "processor.printString()  "
   ]
  }
 ],
 "metadata": {
  "kernelspec": {
   "display_name": "Python 3",
   "language": "python",
   "name": "python3"
  },
  "language_info": {
   "codemirror_mode": {
    "name": "ipython",
    "version": 3
   },
   "file_extension": ".py",
   "mimetype": "text/x-python",
   "name": "python",
   "nbconvert_exporter": "python",
   "pygments_lexer": "ipython3",
   "version": "3.12.3"
  }
 },
 "nbformat": 4,
 "nbformat_minor": 2
}
