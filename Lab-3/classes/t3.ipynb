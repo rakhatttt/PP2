{
 "cells": [
  {
   "cell_type": "code",
   "execution_count": 1,
   "metadata": {},
   "outputs": [
    {
     "name": "stdout",
     "output_type": "stream",
     "text": [
      "Area: 12\n"
     ]
    }
   ],
   "source": [
    "class Shape:\n",
    "    def __init__(x):\n",
    "        pass\n",
    "    def area(x):\n",
    "        return 0\n",
    "\n",
    "class Rectangle(Shape):\n",
    "    def __init__(x,length,width):\n",
    "\n",
    "        super().__init__()\n",
    "        x.length=length\n",
    "        x.width=width\n",
    "    def area(x):\n",
    "\n",
    "        return x.length*x.width\n",
    "\n",
    "rec=Rectangle(3,4)\n",
    "print(\"Area:\",rec.area())\n"
   ]
  }
 ],
 "metadata": {
  "kernelspec": {
   "display_name": "Python 3",
   "language": "python",
   "name": "python3"
  },
  "language_info": {
   "codemirror_mode": {
    "name": "ipython",
    "version": 3
   },
   "file_extension": ".py",
   "mimetype": "text/x-python",
   "name": "python",
   "nbconvert_exporter": "python",
   "pygments_lexer": "ipython3",
   "version": "3.12.3"
  }
 },
 "nbformat": 4,
 "nbformat_minor": 2
}
