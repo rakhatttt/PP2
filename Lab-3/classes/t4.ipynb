{
 "cells": [
  {
   "cell_type": "code",
   "execution_count": 2,
   "metadata": {},
   "outputs": [
    {
     "name": "stdout",
     "output_type": "stream",
     "text": [
      "Coordinates: 2 4\n",
      "Coordinates: 3 5\n",
      "move point to: 3 7\n",
      "distance between p1 and p2: 2.0\n"
     ]
    }
   ],
   "source": [
    "import math\n",
    "\n",
    "class Point:\n",
    "    def __init__(s,x,y):\n",
    "\n",
    "        s.x=x\n",
    "        s.y=y\n",
    "    def show(s):\n",
    "        print(\"Coordinates:\",s.x,s.y)\n",
    "    \n",
    "    def move(s,x1,y1):\n",
    "\n",
    "        s.x=x1\n",
    "        s.y=y1\n",
    "        print(\"move point to:\", x1,y1)\n",
    "    \n",
    "    def dist(s,e):\n",
    "\n",
    "        dx=s.x-e.x\n",
    "        dy=s.y-e.y\n",
    "        distance=math.sqrt(dx**2+dy**2)\n",
    "        return distance\n",
    "    \n",
    "point1=Point(2,4)\n",
    "point2=Point(3,5)\n",
    "\n",
    "point1.show()\n",
    "point2.show()\n",
    "\n",
    "point1.move(3,7)\n",
    "\n",
    "distance=point1.dist(point2)\n",
    "\n",
    "print(\"distance between p1 and p2:\",distance)"
   ]
  }
 ],
 "metadata": {
  "kernelspec": {
   "display_name": "Python 3",
   "language": "python",
   "name": "python3"
  },
  "language_info": {
   "codemirror_mode": {
    "name": "ipython",
    "version": 3
   },
   "file_extension": ".py",
   "mimetype": "text/x-python",
   "name": "python",
   "nbconvert_exporter": "python",
   "pygments_lexer": "ipython3",
   "version": "3.12.3"
  }
 },
 "nbformat": 4,
 "nbformat_minor": 2
}
