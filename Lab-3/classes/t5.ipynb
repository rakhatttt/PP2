{
 "cells": [
  {
   "cell_type": "code",
   "execution_count": 5,
   "metadata": {},
   "outputs": [
    {
     "name": "stdout",
     "output_type": "stream",
     "text": [
      "Account owner: Zhenisbek Rakhat, Balance: $100\n",
      "deposited $50.New balance: $150\n",
      "Account owner: Zhenisbek Rakhat, Balance: $150\n"
     ]
    }
   ],
   "source": [
    "class Account:\n",
    "    pass\n",
    "class BankAccount:\n",
    "    def __init__(x,owner,balance):\n",
    "        x.owner=owner\n",
    "        x.balance=balance\n",
    "\n",
    "    def deposit(x,amount):\n",
    "        if amount>0:\n",
    "            x.balance+=amount\n",
    "            print(f\"deposited ${amount}.New balance: ${x.balance}\")\n",
    "        else:\n",
    "            print(\"Deposit amount must be positive.\")\n",
    "\n",
    "    def withdraw(x,amount):\n",
    "        if amount>0:\n",
    "            if amount<=x.balance:\n",
    "                x.balance-=amount\n",
    "                print(f\"withdrew ${amount}. New balance: ${x.balance}\")\n",
    "            else:\n",
    "                print(\"Withdrawal denied.\")\n",
    "        else:\n",
    "            print(\"withdrawal amount must be positive.\")\n",
    "\n",
    "    def __str__(x):\n",
    "       return f\"Account owner: {x.owner}, Balance: ${x.balance}\"\n",
    "\n",
    "\n",
    "account=BankAccount(\"Zhenisbek Rakhat\", 100)\n",
    "\n",
    "print(account)\n",
    "\n",
    "account.deposit(50) \n",
    "\n",
    "\n",
    "print(account)\n"
   ]
  }
 ],
 "metadata": {
  "kernelspec": {
   "display_name": "Python 3",
   "language": "python",
   "name": "python3"
  },
  "language_info": {
   "codemirror_mode": {
    "name": "ipython",
    "version": 3
   },
   "file_extension": ".py",
   "mimetype": "text/x-python",
   "name": "python",
   "nbconvert_exporter": "python",
   "pygments_lexer": "ipython3",
   "version": "3.12.3"
  }
 },
 "nbformat": 4,
 "nbformat_minor": 2
}
