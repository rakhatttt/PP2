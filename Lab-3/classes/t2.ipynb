{
 "cells": [
  {
   "cell_type": "code",
   "execution_count": 2,
   "metadata": {},
   "outputs": [
    {
     "name": "stdout",
     "output_type": "stream",
     "text": [
      "Area of Shape: 0\n",
      "Area of Square: 25\n"
     ]
    }
   ],
   "source": [
    "class Shape:\n",
    "    def __init__(x):\n",
    "        pass\n",
    "    def area(x):\n",
    "        return 0\n",
    "\n",
    "class Square(Shape):\n",
    "    def __init__(x,length):\n",
    "\n",
    "        super().__init__()\n",
    "        x.length=length\n",
    "\n",
    "    def area(x):\n",
    "\n",
    "        return x.length ** 2\n",
    "\n",
    "shape=Shape()\n",
    "print(\"Area of Shape:\", shape.area())\n",
    "\n",
    "square=Square(5)\n",
    "print(\"Area of Square:\", square.area())"
   ]
  }
 ],
 "metadata": {
  "kernelspec": {
   "display_name": "Python 3",
   "language": "python",
   "name": "python3"
  },
  "language_info": {
   "codemirror_mode": {
    "name": "ipython",
    "version": 3
   },
   "file_extension": ".py",
   "mimetype": "text/x-python",
   "name": "python",
   "nbconvert_exporter": "python",
   "pygments_lexer": "ipython3",
   "version": "3.12.3"
  }
 },
 "nbformat": 4,
 "nbformat_minor": 2
}
